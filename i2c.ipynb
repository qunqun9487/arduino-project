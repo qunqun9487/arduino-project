{
 "cells": [
  {
   "cell_type": "code",
   "execution_count": null,
   "metadata": {},
   "outputs": [
    {
     "name": "stdout",
     "output_type": "stream",
     "text": [
      "成功连接到 COM3\n",
      "发送: \n",
      "发送: hihi\n",
      "发送: i am prooo\n"
     ]
    }
   ],
   "source": [
    "import serial\n",
    "import time\n",
    "\n",
    "# 配置串口\n",
    "arduino_port = 'COM3'  # 修改为你的 Arduino 串口号\n",
    "baud_rate = 115200     # 波特率\n",
    "\n",
    "# 初始化串口连接\n",
    "try:\n",
    "    arduino = serial.Serial(arduino_port, baud_rate, timeout=1)\n",
    "    print(f\"成功连接到 {arduino_port}\")\n",
    "except serial.SerialException as e:\n",
    "    print(f\"无法连接到 Arduino: {e}\")\n",
    "    exit()\n",
    "\n",
    "def send_message_to_arduino(message):\n",
    "    \"\"\"向 Arduino 发送信息\"\"\"\n",
    "    try:\n",
    "        arduino.write(f\"{message}\\n\".encode('utf-8'))  # 添加换行符表示结束\n",
    "        print(f\"发送: {message}\")\n",
    "    except Exception as e:\n",
    "        print(f\"发送数据到 Arduino 时出错: {e}\")\n",
    "\n",
    "# 测试交互\n",
    "try:\n",
    "    while True:\n",
    "        message = input(\"输入要显示的消息 (输入 'exit' 退出): \")\n",
    "        if message.lower() == 'exit':\n",
    "            break\n",
    "        send_message_to_arduino(message)\n",
    "        time.sleep(0.5)  # 等待 Arduino 处理\n",
    "except KeyboardInterrupt:\n",
    "    print(\"\\n程序终止\")\n",
    "finally:\n",
    "    arduino.close()\n",
    "    print(\"串口已关闭\")\n"
   ]
  }
 ],
 "metadata": {
  "kernelspec": {
   "display_name": "hw",
   "language": "python",
   "name": "python3"
  },
  "language_info": {
   "codemirror_mode": {
    "name": "ipython",
    "version": 3
   },
   "file_extension": ".py",
   "mimetype": "text/x-python",
   "name": "python",
   "nbconvert_exporter": "python",
   "pygments_lexer": "ipython3",
   "version": "3.10.15"
  }
 },
 "nbformat": 4,
 "nbformat_minor": 2
}
